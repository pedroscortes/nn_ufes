{
 "cells": [
  {
   "cell_type": "markdown",
   "id": "5d6fe917",
   "metadata": {},
   "source": [
    "# 🧠🤖 Brincando mais com o Neurônio de McCulloch-Pitts "
   ]
  },
  {
   "cell_type": "markdown",
   "id": "75a8dab0",
   "metadata": {},
   "source": [
    "## Preparação"
   ]
  },
  {
   "cell_type": "markdown",
   "id": "aacfa116",
   "metadata": {},
   "source": [
    "Copie a classe `MCPNeuron` construída na aula anterior para a célula abaixo. "
   ]
  },
  {
   "cell_type": "code",
   "execution_count": null,
   "id": "62a16c03",
   "metadata": {
    "tags": [
     "MCPNeuron"
    ]
   },
   "outputs": [],
   "source": [
    "# resposta:\n",
    "\n",
    "class MCPNeuron:\n",
    "    ... # TODO\n"
   ]
  },
  {
   "cell_type": "code",
   "execution_count": 2,
   "id": "c6d4f6ad",
   "metadata": {},
   "outputs": [
    {
     "name": "stdout",
     "output_type": "stream",
     "text": [
      "Defaulting to user installation because normal site-packages is not writeable\n",
      "Requirement already satisfied: requests in c:\\users\\filip\\appdata\\roaming\\python\\python310\\site-packages (2.28.2)\n",
      "Requirement already satisfied: Pillow in c:\\users\\filip\\appdata\\roaming\\python\\python310\\site-packages (10.3.0)\n",
      "Collecting opencv-python\n",
      "  Downloading opencv_python-4.11.0.86-cp37-abi3-win_amd64.whl (39.5 MB)\n",
      "     ---------------------------------------- 0.0/39.5 MB ? eta -:--:--\n",
      "     ---------------------------------------- 0.1/39.5 MB 2.6 MB/s eta 0:00:15\n",
      "     ---------------------------------------- 0.3/39.5 MB 3.5 MB/s eta 0:00:12\n",
      "     - -------------------------------------- 1.0/39.5 MB 7.9 MB/s eta 0:00:05\n",
      "     - -------------------------------------- 1.9/39.5 MB 11.0 MB/s eta 0:00:04\n",
      "     -- ------------------------------------- 2.7/39.5 MB 13.0 MB/s eta 0:00:03\n",
      "     --- ------------------------------------ 3.7/39.5 MB 15.8 MB/s eta 0:00:03\n",
      "     ----- ---------------------------------- 5.0/39.5 MB 16.8 MB/s eta 0:00:03\n",
      "     ----- ---------------------------------- 5.9/39.5 MB 18.0 MB/s eta 0:00:02\n",
      "     ------ --------------------------------- 6.8/39.5 MB 19.0 MB/s eta 0:00:02\n",
      "     -------- ------------------------------- 8.1/39.5 MB 19.9 MB/s eta 0:00:02\n",
      "     --------- ------------------------------ 9.3/39.5 MB 20.5 MB/s eta 0:00:02\n",
      "     ---------- ---------------------------- 10.3/39.5 MB 22.6 MB/s eta 0:00:02\n",
      "     ----------- --------------------------- 11.5/39.5 MB 27.3 MB/s eta 0:00:02\n",
      "     ------------ -------------------------- 12.4/39.5 MB 26.2 MB/s eta 0:00:02\n",
      "     ------------- ------------------------- 13.6/39.5 MB 26.2 MB/s eta 0:00:01\n",
      "     -------------- ------------------------ 14.6/39.5 MB 27.3 MB/s eta 0:00:01\n",
      "     --------------- ----------------------- 15.6/39.5 MB 28.4 MB/s eta 0:00:01\n",
      "     ---------------- ---------------------- 16.8/39.5 MB 28.5 MB/s eta 0:00:01\n",
      "     ----------------- --------------------- 17.7/39.5 MB 26.2 MB/s eta 0:00:01\n",
      "     ------------------ -------------------- 19.1/39.5 MB 28.4 MB/s eta 0:00:01\n",
      "     ------------------- ------------------- 20.2/39.5 MB 27.3 MB/s eta 0:00:01\n",
      "     --------------------- ----------------- 21.6/39.5 MB 27.3 MB/s eta 0:00:01\n",
      "     ---------------------- ---------------- 22.8/39.5 MB 28.4 MB/s eta 0:00:01\n",
      "     ----------------------- --------------- 24.3/39.5 MB 29.8 MB/s eta 0:00:01\n",
      "     ------------------------- ------------- 25.7/39.5 MB 31.2 MB/s eta 0:00:01\n",
      "     -------------------------- ------------ 26.9/39.5 MB 31.1 MB/s eta 0:00:01\n",
      "     --------------------------- ----------- 27.5/39.5 MB 28.5 MB/s eta 0:00:01\n",
      "     ---------------------------- ---------- 28.5/39.5 MB 29.7 MB/s eta 0:00:01\n",
      "     ---------------------------- ---------- 29.2/39.5 MB 28.5 MB/s eta 0:00:01\n",
      "     ---------------------------- ---------- 29.2/39.5 MB 28.5 MB/s eta 0:00:01\n",
      "     ------------------------------ -------- 31.0/39.5 MB 26.2 MB/s eta 0:00:01\n",
      "     ------------------------------- ------- 32.2/39.5 MB 26.2 MB/s eta 0:00:01\n",
      "     -------------------------------- ------ 33.4/39.5 MB 26.2 MB/s eta 0:00:01\n",
      "     --------------------------------- ----- 34.4/39.5 MB 26.2 MB/s eta 0:00:01\n",
      "     ----------------------------------- --- 36.0/39.5 MB 25.1 MB/s eta 0:00:01\n",
      "     ------------------------------------ -- 37.2/39.5 MB 24.3 MB/s eta 0:00:01\n",
      "     --------------------------------------  38.8/39.5 MB 26.2 MB/s eta 0:00:01\n",
      "     --------------------------------------  39.5/39.5 MB 34.4 MB/s eta 0:00:01\n",
      "     --------------------------------------  39.5/39.5 MB 34.4 MB/s eta 0:00:01\n",
      "     --------------------------------------- 39.5/39.5 MB 27.3 MB/s eta 0:00:00\n",
      "Requirement already satisfied: idna<4,>=2.5 in c:\\users\\filip\\appdata\\roaming\\python\\python310\\site-packages (from requests) (3.4)\n",
      "Requirement already satisfied: charset-normalizer<4,>=2 in c:\\users\\filip\\appdata\\roaming\\python\\python310\\site-packages (from requests) (3.1.0)\n",
      "Requirement already satisfied: urllib3<1.27,>=1.21.1 in c:\\users\\filip\\appdata\\roaming\\python\\python310\\site-packages (from requests) (1.26.15)\n",
      "Requirement already satisfied: certifi>=2017.4.17 in c:\\users\\filip\\appdata\\roaming\\python\\python310\\site-packages (from requests) (2022.12.7)\n",
      "Requirement already satisfied: numpy>=1.19.3 in c:\\users\\filip\\appdata\\roaming\\python\\python310\\site-packages (from opencv-python) (1.26.4)\n",
      "Installing collected packages: opencv-python\n",
      "Successfully installed opencv-python-4.11.0.86\n"
     ]
    },
    {
     "name": "stderr",
     "output_type": "stream",
     "text": [
      "\n",
      "[notice] A new release of pip is available: 23.0.1 -> 25.1.1\n",
      "[notice] To update, run: python.exe -m pip install --upgrade pip\n"
     ]
    }
   ],
   "source": [
    "!python -m pip install requests Pillow opencv-python"
   ]
  },
  {
   "cell_type": "markdown",
   "id": "fa0c1a40",
   "metadata": {},
   "source": [
    "## Atividade: Implementando Circuitos "
   ]
  },
  {
   "cell_type": "markdown",
   "id": "21fc5bc9",
   "metadata": {},
   "source": [
    "Nesta atividade, vamos construir a nossa primeira **Rede Neural**, isto é, um conjunto de neurônios conectados que realizam uma ou mais tarefas.\n",
    "\n",
    "Considere o circuito exibido na Figura 1. O objetivo desta atividade é implementar este circuito utilizando apenas neurônios MCP. \n",
    "\n",
    "Crie uma classe **MCPCircuit** para representar o circuito. A classe deve possuir os seguintes métodos: \n",
    "- **construtor**: deve inicializar atributos privados do tipo MCPNeuron para representar as portas lógicas. \n",
    "- **forward**: deve receber uma lista contendo os valores de A, B, C e D, nesta ordem, e retornar a saída do circuito. \n",
    "  - Adicione um *assert* para verificar se a entrada possui tamanho 4.\n",
    "  - Os valores de A e B devem ser usados como entrada para o neurônio AND e o valor de C deve ser usado como entrada para o neurônio NOT. As saídas destes neurônios devem ser usadas como entrada para o neurônio OR. E assim por diante.\n",
    "  - Lembre-se de utilizar *type hints* para informar os tipos de entrada e saída dos métodos.\n"
   ]
  },
  {
   "cell_type": "markdown",
   "id": "d07dcd3b",
   "metadata": {},
   "source": [
    "![circuito](data:image/png;base64,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)\n",
    "\n",
    "Figura 1: Circuito lógico."
   ]
  },
  {
   "cell_type": "code",
   "execution_count": null,
   "id": "d8ee8d37",
   "metadata": {
    "tags": [
     "MCPCircuit"
    ]
   },
   "outputs": [],
   "source": [
    "\n",
    "# resposta:\n",
    "\n",
    "class MCPCircuit:\n",
    "    def __init__(self):\n",
    "        ...  # TODO\n",
    "\n",
    "    def forward(self, x: list[float]) -> float:\n",
    "        assert len(x) == 4, 'MCPCircuit expects 4 values as input'\n",
    "        a, b, c, d = x\n",
    "\n",
    "        ... # TODO\n"
   ]
  },
  {
   "cell_type": "code",
   "execution_count": 4,
   "id": "df73fa5d",
   "metadata": {},
   "outputs": [
    {
     "data": {
      "text/html": [
       "<div>\n",
       "<style scoped>\n",
       "    .dataframe tbody tr th:only-of-type {\n",
       "        vertical-align: middle;\n",
       "    }\n",
       "\n",
       "    .dataframe tbody tr th {\n",
       "        vertical-align: top;\n",
       "    }\n",
       "\n",
       "    .dataframe thead th {\n",
       "        text-align: right;\n",
       "    }\n",
       "</style>\n",
       "<table border=\"1\" class=\"dataframe\">\n",
       "  <thead>\n",
       "    <tr style=\"text-align: right;\">\n",
       "      <th></th>\n",
       "      <th>a</th>\n",
       "      <th>b</th>\n",
       "      <th>c</th>\n",
       "      <th>d</th>\n",
       "      <th>result</th>\n",
       "    </tr>\n",
       "  </thead>\n",
       "  <tbody>\n",
       "    <tr>\n",
       "      <th>0</th>\n",
       "      <td>0</td>\n",
       "      <td>0</td>\n",
       "      <td>0</td>\n",
       "      <td>0</td>\n",
       "      <td>1.0</td>\n",
       "    </tr>\n",
       "    <tr>\n",
       "      <th>1</th>\n",
       "      <td>0</td>\n",
       "      <td>0</td>\n",
       "      <td>0</td>\n",
       "      <td>1</td>\n",
       "      <td>0.0</td>\n",
       "    </tr>\n",
       "    <tr>\n",
       "      <th>2</th>\n",
       "      <td>0</td>\n",
       "      <td>0</td>\n",
       "      <td>1</td>\n",
       "      <td>0</td>\n",
       "      <td>1.0</td>\n",
       "    </tr>\n",
       "    <tr>\n",
       "      <th>3</th>\n",
       "      <td>0</td>\n",
       "      <td>0</td>\n",
       "      <td>1</td>\n",
       "      <td>1</td>\n",
       "      <td>1.0</td>\n",
       "    </tr>\n",
       "    <tr>\n",
       "      <th>4</th>\n",
       "      <td>0</td>\n",
       "      <td>1</td>\n",
       "      <td>0</td>\n",
       "      <td>0</td>\n",
       "      <td>1.0</td>\n",
       "    </tr>\n",
       "    <tr>\n",
       "      <th>5</th>\n",
       "      <td>0</td>\n",
       "      <td>1</td>\n",
       "      <td>0</td>\n",
       "      <td>1</td>\n",
       "      <td>0.0</td>\n",
       "    </tr>\n",
       "    <tr>\n",
       "      <th>6</th>\n",
       "      <td>0</td>\n",
       "      <td>1</td>\n",
       "      <td>1</td>\n",
       "      <td>0</td>\n",
       "      <td>1.0</td>\n",
       "    </tr>\n",
       "    <tr>\n",
       "      <th>7</th>\n",
       "      <td>0</td>\n",
       "      <td>1</td>\n",
       "      <td>1</td>\n",
       "      <td>1</td>\n",
       "      <td>1.0</td>\n",
       "    </tr>\n",
       "    <tr>\n",
       "      <th>8</th>\n",
       "      <td>1</td>\n",
       "      <td>0</td>\n",
       "      <td>0</td>\n",
       "      <td>0</td>\n",
       "      <td>1.0</td>\n",
       "    </tr>\n",
       "    <tr>\n",
       "      <th>9</th>\n",
       "      <td>1</td>\n",
       "      <td>0</td>\n",
       "      <td>0</td>\n",
       "      <td>1</td>\n",
       "      <td>0.0</td>\n",
       "    </tr>\n",
       "    <tr>\n",
       "      <th>10</th>\n",
       "      <td>1</td>\n",
       "      <td>0</td>\n",
       "      <td>1</td>\n",
       "      <td>0</td>\n",
       "      <td>1.0</td>\n",
       "    </tr>\n",
       "    <tr>\n",
       "      <th>11</th>\n",
       "      <td>1</td>\n",
       "      <td>0</td>\n",
       "      <td>1</td>\n",
       "      <td>1</td>\n",
       "      <td>1.0</td>\n",
       "    </tr>\n",
       "    <tr>\n",
       "      <th>12</th>\n",
       "      <td>1</td>\n",
       "      <td>1</td>\n",
       "      <td>0</td>\n",
       "      <td>0</td>\n",
       "      <td>1.0</td>\n",
       "    </tr>\n",
       "    <tr>\n",
       "      <th>13</th>\n",
       "      <td>1</td>\n",
       "      <td>1</td>\n",
       "      <td>0</td>\n",
       "      <td>1</td>\n",
       "      <td>0.0</td>\n",
       "    </tr>\n",
       "    <tr>\n",
       "      <th>14</th>\n",
       "      <td>1</td>\n",
       "      <td>1</td>\n",
       "      <td>1</td>\n",
       "      <td>0</td>\n",
       "      <td>1.0</td>\n",
       "    </tr>\n",
       "    <tr>\n",
       "      <th>15</th>\n",
       "      <td>1</td>\n",
       "      <td>1</td>\n",
       "      <td>1</td>\n",
       "      <td>1</td>\n",
       "      <td>0.0</td>\n",
       "    </tr>\n",
       "  </tbody>\n",
       "</table>\n",
       "</div>"
      ],
      "text/plain": [
       "    a  b  c  d  result\n",
       "0   0  0  0  0     1.0\n",
       "1   0  0  0  1     0.0\n",
       "2   0  0  1  0     1.0\n",
       "3   0  0  1  1     1.0\n",
       "4   0  1  0  0     1.0\n",
       "5   0  1  0  1     0.0\n",
       "6   0  1  1  0     1.0\n",
       "7   0  1  1  1     1.0\n",
       "8   1  0  0  0     1.0\n",
       "9   1  0  0  1     0.0\n",
       "10  1  0  1  0     1.0\n",
       "11  1  0  1  1     1.0\n",
       "12  1  1  0  0     1.0\n",
       "13  1  1  0  1     0.0\n",
       "14  1  1  1  0     1.0\n",
       "15  1  1  1  1     0.0"
      ]
     },
     "execution_count": 4,
     "metadata": {},
     "output_type": "execute_result"
    }
   ],
   "source": [
    "import itertools\n",
    "import pandas as pd\n",
    "\n",
    "def truth_table(circuit: MCPCircuit) -> pd.DataFrame:\n",
    "    combinations = list(itertools.product([0, 1], repeat=4))\n",
    "    table = [c + (circuit.forward(c), ) for c in combinations]\n",
    "    return pd.DataFrame(table, columns='a b c d result'.split())\n",
    "\n",
    "\n",
    "circuit = MCPCircuit()\n",
    "truth_table(circuit)  # deve exibir a tabela verdade"
   ]
  },
  {
   "cell_type": "markdown",
   "id": "16547ab4",
   "metadata": {},
   "source": [
    "## Atividade: De volta ao XOR"
   ]
  },
  {
   "cell_type": "markdown",
   "id": "cdea430d",
   "metadata": {},
   "source": [
    "Na aula passada, vimos que um neurônio MCP é incapaz de implementar a porta lógica XOR. \n",
    "\n",
    "Inspirados pelo exercício anterior, surge a questão: será que uma rede neural composta por sequências de neurônios MCP é capaz de implementar o XOR? E a resposta é **SIM**!\n",
    "\n",
    "A Figura 2 mostra um circuito capaz de implementar o XOR usando portas lógicas AND, NOT e OR. \n",
    "\n",
    "Crie uma classe similar à anterior para reproduzir o circuito. \n",
    "\n",
    "Esta atividade demonstra um resultado importante: **redes neurais com sequências de duas ou mais camadas contendo funções de ativação não-lineares (como a função degrau utilizada até agora), são capazes de representar funções não lineares**!"
   ]
  },
  {
   "cell_type": "markdown",
   "id": "c60d79fa",
   "metadata": {},
   "source": [
    "<img src=\"data:image/jpg;base64,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\" />\n",
    "\n",
    "Figura 2: Circuito XOR."
   ]
  },
  {
   "cell_type": "code",
   "execution_count": null,
   "id": "afe67730",
   "metadata": {
    "tags": [
     "XorCircuit"
    ]
   },
   "outputs": [],
   "source": [
    "\n",
    "# resposta:\n",
    "\n",
    "class XorCircuit:\n",
    "    def __init__(self):\n",
    "        ...  # TODO\n",
    "\n",
    "    def forward(self, x: list[float]) -> float:\n",
    "        assert len(x) == 2, 'xor should receive two values as input'\n",
    "        a, b = x\n",
    "        ...  # TODO\n",
    "\n"
   ]
  },
  {
   "cell_type": "code",
   "execution_count": 6,
   "id": "67cb6373",
   "metadata": {},
   "outputs": [
    {
     "data": {
      "text/html": [
       "<div>\n",
       "<style scoped>\n",
       "    .dataframe tbody tr th:only-of-type {\n",
       "        vertical-align: middle;\n",
       "    }\n",
       "\n",
       "    .dataframe tbody tr th {\n",
       "        vertical-align: top;\n",
       "    }\n",
       "\n",
       "    .dataframe thead th {\n",
       "        text-align: right;\n",
       "    }\n",
       "</style>\n",
       "<table border=\"1\" class=\"dataframe\">\n",
       "  <thead>\n",
       "    <tr style=\"text-align: right;\">\n",
       "      <th></th>\n",
       "      <th>a</th>\n",
       "      <th>b</th>\n",
       "      <th>result</th>\n",
       "    </tr>\n",
       "  </thead>\n",
       "  <tbody>\n",
       "    <tr>\n",
       "      <th>0</th>\n",
       "      <td>0</td>\n",
       "      <td>0</td>\n",
       "      <td>0.0</td>\n",
       "    </tr>\n",
       "    <tr>\n",
       "      <th>1</th>\n",
       "      <td>0</td>\n",
       "      <td>1</td>\n",
       "      <td>1.0</td>\n",
       "    </tr>\n",
       "    <tr>\n",
       "      <th>2</th>\n",
       "      <td>1</td>\n",
       "      <td>0</td>\n",
       "      <td>1.0</td>\n",
       "    </tr>\n",
       "    <tr>\n",
       "      <th>3</th>\n",
       "      <td>1</td>\n",
       "      <td>1</td>\n",
       "      <td>0.0</td>\n",
       "    </tr>\n",
       "  </tbody>\n",
       "</table>\n",
       "</div>"
      ],
      "text/plain": [
       "   a  b  result\n",
       "0  0  0     0.0\n",
       "1  0  1     1.0\n",
       "2  1  0     1.0\n",
       "3  1  1     0.0"
      ]
     },
     "execution_count": 6,
     "metadata": {},
     "output_type": "execute_result"
    }
   ],
   "source": [
    "import itertools\n",
    "import pandas as pd\n",
    "\n",
    "def truth_table(circuit: MCPCircuit) -> pd.DataFrame:\n",
    "    combinations = list(itertools.product([0, 1], repeat=2))\n",
    "    table = [c + (circuit.forward(c), ) for c in combinations]\n",
    "    return pd.DataFrame(table, columns='a b result'.split())\n",
    "\n",
    "\n",
    "circuit = XorCircuit()\n",
    "truth_table(circuit)  # deve exibir a tabela verdade do XOR"
   ]
  }
 ],
 "metadata": {
  "kernelspec": {
   "display_name": "Python 3",
   "language": "python",
   "name": "python3"
  },
  "language_info": {
   "codemirror_mode": {
    "name": "ipython",
    "version": 3
   },
   "file_extension": ".py",
   "mimetype": "text/x-python",
   "name": "python",
   "nbconvert_exporter": "python",
   "pygments_lexer": "ipython3",
   "version": "3.10.9"
  }
 },
 "nbformat": 4,
 "nbformat_minor": 5
}